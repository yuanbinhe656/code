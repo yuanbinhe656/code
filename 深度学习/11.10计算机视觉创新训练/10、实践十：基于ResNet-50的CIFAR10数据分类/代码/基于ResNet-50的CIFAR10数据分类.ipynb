{
 "cells": [
  {
   "cell_type": "markdown",
   "metadata": {
    "collapsed": false
   },
   "source": [
    "\n",
    "# **基于resnet的猫狗分类**\n",
    "图像分类是根据图像的语义信息将不同类别图像区分开来，是计算机视觉中重要的基本问题\n",
    "\n",
    "猫狗分类属于图像分类中的粗粒度分类问题\n",
    "\n",
    "![](https://ai-studio-static-online.cdn.bcebos.com/1cd9ef37036647c2afbbc866a7d2c14179f33cf1e2494d1f8f00de556d231452)"
   ]
  },
  {
   "cell_type": "markdown",
   "metadata": {
    "collapsed": false
   },
   "source": [
    "\n",
    "## **首先导入必要的包**\n",
    "\n",
    "paddle--->PaddlePaddle深度学习框架\n",
    "\n",
    "os------------->python的模块，可使用该模块对操作系统进行操作\n",
    "\n",
    "numpy---------->python第三方库，用于进行科学计算\n",
    "\n",
    "PIL------------> Python Image Library,python第三方图像处理库\n",
    "\n",
    "matplotlib----->python的绘图库 pyplot:matplotlib的绘图框架\n",
    "\n",
    "os------------->提供了丰富的方法来处理文件和目录\n",
    "\n",
    "sys------------->供对解释器使用或维护的一些变量的访问，以及与解释器强烈交互的函数。\n",
    "\n",
    "pickle---------->模块实现了基本的数据序列和反序列化"
   ]
  },
  {
   "cell_type": "code",
   "execution_count": 1,
   "metadata": {
    "collapsed": false
   },
   "outputs": [
    {
     "name": "stderr",
     "output_type": "stream",
     "text": [
      "/opt/conda/envs/python35-paddle120-env/lib/python3.7/site-packages/paddle/fluid/layers/utils.py:26: DeprecationWarning: `np.int` is a deprecated alias for the builtin `int`. To silence this warning, use `int` by itself. Doing this will not modify any behavior and is safe. When replacing `np.int`, you may wish to use e.g. `np.int64` or `np.int32` to specify the precision. If you wish to review your current use, check the release note link for additional information.\n",
      "Deprecated in NumPy 1.20; for more details and guidance: https://numpy.org/devdocs/release/1.20.0-notes.html#deprecations\n",
      "  def convert_to_list(value, n, name, dtype=np.int):\n",
      "/opt/conda/envs/python35-paddle120-env/lib/python3.7/site-packages/matplotlib/__init__.py:107: DeprecationWarning: Using or importing the ABCs from 'collections' instead of from 'collections.abc' is deprecated, and in 3.8 it will stop working\n",
      "  from collections import MutableMapping\n",
      "/opt/conda/envs/python35-paddle120-env/lib/python3.7/site-packages/matplotlib/rcsetup.py:20: DeprecationWarning: Using or importing the ABCs from 'collections' instead of from 'collections.abc' is deprecated, and in 3.8 it will stop working\n",
      "  from collections import Iterable, Mapping\n",
      "/opt/conda/envs/python35-paddle120-env/lib/python3.7/site-packages/matplotlib/colors.py:53: DeprecationWarning: Using or importing the ABCs from 'collections' instead of from 'collections.abc' is deprecated, and in 3.8 it will stop working\n",
      "  from collections import Sized\n",
      "2021-05-30 14:31:10,437 - INFO - font search path ['/opt/conda/envs/python35-paddle120-env/lib/python3.7/site-packages/matplotlib/mpl-data/fonts/ttf', '/opt/conda/envs/python35-paddle120-env/lib/python3.7/site-packages/matplotlib/mpl-data/fonts/afm', '/opt/conda/envs/python35-paddle120-env/lib/python3.7/site-packages/matplotlib/mpl-data/fonts/pdfcorefonts']\n",
      "2021-05-30 14:31:10,771 - INFO - generated new fontManager\n"
     ]
    },
    {
     "name": "stdout",
     "output_type": "stream",
     "text": [
      "本教程基于Paddle的版本号为：2.0.2\n"
     ]
    }
   ],
   "source": [
    "# 导入需要的包\n",
    "import paddle\n",
    "import os \n",
    "import numpy as np\n",
    "from PIL import Image\n",
    "import matplotlib.pyplot as plt\n",
    "import sys\n",
    "import pickle\n",
    "from paddle.vision.transforms import ToTensor\n",
    "import paddle.nn.functional as F\n",
    "print(\"本教程基于Paddle的版本号为：\"+paddle.__version__)"
   ]
  },
  {
   "cell_type": "markdown",
   "metadata": {
    "collapsed": false
   },
   "source": [
    "## **Step1:准备数据**\n",
    "### 自定义数据集\n",
    "**（1）数据集介绍**\n",
    "\n",
    "我们使用CIFAR10数据集。CIFAR10数据集包含60,000张32x32的彩色图片，10个类别，每个类包含6,0000张。其中50,000张图片作为训练集，10000张作为验证集。这次我们只对其中的猫和狗两类进行预测。\n",
    "\n",
    "![](https://ai-studio-static-online.cdn.bcebos.com/567016c028714d21bfe690dee70e9ea31512ba3575bd4d7caebbb7ade05c72ac)\n",
    "\n",
    "**(2)train_dataset和eval_dataset**\n",
    "\n",
    "自定义读取器处理训练集和测试集\n",
    "\n",
    "paddle.reader.shuffle()表示每次缓存BUF_SIZE个数据项，并进行打乱\n",
    "\n",
    "paddle.batch()表示每BATCH_SIZE组成一个batch"
   ]
  },
  {
   "cell_type": "code",
   "execution_count": 2,
   "metadata": {
    "collapsed": false
   },
   "outputs": [],
   "source": [
    "'''\r\n",
    "参数配置\r\n",
    "'''\r\n",
    "train_parameters = {\r\n",
    "    \"input_size\": [3, 32, 32],                           #输入图片的shape\r\n",
    "    \"src_path\":\"/home/aistudio/data/data9154/cifar-10-python.tar.gz\",       #原始数据集路径\r\n",
    "    \"target_path\":\"/home/aistudio/cifar-10-batches-py\",        #要解压的路径 \r\n",
    "    \"num_epochs\": 1,                                    #训练轮数\r\n",
    "    \"train_batch_size\": 64,                             #批次的大小\r\n",
    "    \"learning_strategy\": {                              #优化函数相关的配置\r\n",
    "        \"lr\": 0.001                                     #超参数学习率\r\n",
    "    } \r\n",
    "}"
   ]
  },
  {
   "cell_type": "code",
   "execution_count": 3,
   "metadata": {
    "collapsed": false
   },
   "outputs": [],
   "source": [
    "def unzip_data(src_path,target_path):\r\n",
    "\r\n",
    "    '''\r\n",
    "    解压原始数据集，将src_path路径下的zip包解压至/home/aistudio/目录下\r\n",
    "    '''\r\n",
    "\r\n",
    "    if(not os.path.isdir(target_path)):    \r\n",
    "        import tarfile\r\n",
    "        tar = tarfile.open(src_path,'r')\r\n",
    "        tar.extractall(PATH=target_path)\r\n",
    "        tar.close()\r\n",
    "    else:\r\n",
    "        print(\"文件已解压\")"
   ]
  },
  {
   "cell_type": "code",
   "execution_count": 4,
   "metadata": {
    "collapsed": false
   },
   "outputs": [
    {
     "name": "stdout",
     "output_type": "stream",
     "text": [
      "文件已解压\n"
     ]
    }
   ],
   "source": [
    "'''\r\n",
    "参数初始化\r\n",
    "'''\r\n",
    "src_path=train_parameters['src_path']\r\n",
    "target_path=train_parameters['target_path']\r\n",
    "batch_size=train_parameters['train_batch_size']\r\n",
    "image_size=train_parameters['input_size']\r\n",
    "epoch_num=train_parameters['num_epochs']\r\n",
    "lr=train_parameters['learning_strategy']['lr']\r\n",
    "'''\r\n",
    "解压原始数据到指定路径\r\n",
    "'''\r\n",
    "unzip_data(src_path,target_path)"
   ]
  },
  {
   "cell_type": "code",
   "execution_count": 5,
   "metadata": {
    "collapsed": false
   },
   "outputs": [
    {
     "name": "stdout",
     "output_type": "stream",
     "text": [
      "dict_keys([b'batch_label', b'labels', b'data', b'filenames'])\n",
      "dict_keys([b'batch_label', b'labels', b'data', b'filenames'])\n"
     ]
    }
   ],
   "source": [
    "#定义数据序列化函数\r\n",
    "def unpickle(file):\r\n",
    "    with open(file, 'rb') as fo:\r\n",
    "        dict = pickle.load(fo, encoding='bytes')\r\n",
    "    return dict\r\n",
    "\r\n",
    "print(unpickle(\"cifar-10-batches-py/data_batch_1\").keys())\r\n",
    "print(unpickle(\"cifar-10-batches-py/test_batch\").keys())"
   ]
  },
  {
   "cell_type": "code",
   "execution_count": 6,
   "metadata": {
    "collapsed": false
   },
   "outputs": [
    {
     "name": "stdout",
     "output_type": "stream",
     "text": [
      "=============train_dataset =============\n",
      "(3, 32, 32) 9\n",
      "50000\n",
      "=============eval_dataset =============\n",
      "(3, 32, 32) 3\n",
      "10000\n"
     ]
    }
   ],
   "source": [
    "'''\r\n",
    "自定义数据集\r\n",
    "'''\r\n",
    "from paddle.io import Dataset\r\n",
    "class MyDataset(paddle.io.Dataset):\r\n",
    "    \"\"\"\r\n",
    "    步骤一：继承paddle.io.Dataset类\r\n",
    "    \"\"\"\r\n",
    "    def __init__(self, mode='train'):\r\n",
    "        \"\"\"\r\n",
    "        步骤二：实现构造函数，定义数据集大小\r\n",
    "        \"\"\"\r\n",
    "        super(MyDataset, self).__init__()\r\n",
    "        if mode == 'train':\r\n",
    "            xs=[]\r\n",
    "            ys=[]\r\n",
    "            self.data = []\r\n",
    "            self.label = []\r\n",
    "            #批量读入数据\r\n",
    "            for i in range(1,6):\r\n",
    "                train_dict=unpickle(\"cifar-10-batches-py/data_batch_%d\" % (i,))\r\n",
    "                xs.append(train_dict[b'data'])\r\n",
    "                ys.append(train_dict[b'labels'])\r\n",
    "            #拼接数据\r\n",
    "            Xtr = np.concatenate(xs)\r\n",
    "            Ytr = np.concatenate(ys)\r\n",
    "            #数据归一化处理\r\n",
    "            for (x,y) in zip(Xtr,Ytr):  \r\n",
    "                x= x.flatten().astype('float32')/255.0\r\n",
    "                x= x.reshape(image_size)\r\n",
    "                #将数据同一添加到data和label中\r\n",
    "                self.data.append(x)\r\n",
    "                self.label.append(np.array(y).astype('int64'))\r\n",
    "        else:\r\n",
    "            self.data = []\r\n",
    "            self.label = []\r\n",
    "            #读入数据\r\n",
    "            test_dict=unpickle(\"cifar-10-batches-py/test_batch\")\r\n",
    "            X=test_dict[b'data']\r\n",
    "            Y=test_dict[b'labels']\r\n",
    "            for (x,y) in zip(X,Y):  \r\n",
    "                #数据归一化处理\r\n",
    "                x= x.flatten().astype('float32')/255.0\r\n",
    "                x= x.reshape(image_size)\r\n",
    "                #将数据同一添加到data和label中\r\n",
    "                self.data.append(x)\r\n",
    "                self.label.append(np.array(y).astype('int64'))\r\n",
    "    def __getitem__(self, index):\r\n",
    "        \"\"\"\r\n",
    "        步骤三：实现__getitem__方法，定义指定index时如何获取数据，并返回单条数据（训练数据，对应的标签）\r\n",
    "        \"\"\"\r\n",
    "        #返回单一数据和标签\r\n",
    "        data = self.data[index]\r\n",
    "        label = self.label[index]\r\n",
    "        #注：返回标签数据时必须是int64\r\n",
    "        return data, np.array(label, dtype='int64')\r\n",
    "    def __len__(self):\r\n",
    "        \"\"\"\r\n",
    "        步骤四：实现__len__方法，返回数据集总数目\r\n",
    "        \"\"\"\r\n",
    "        #返回数据总数\r\n",
    "        return len(self.data)\r\n",
    "\r\n",
    "# 测试定义的数据集\r\n",
    "train_dataset = MyDataset(mode='train')\r\n",
    "eval_dataset = MyDataset(mode='val')\r\n",
    "print('=============train_dataset =============')\r\n",
    "#输出数据集的形状和标签\r\n",
    "print(train_dataset.__getitem__(1)[0].shape,train_dataset.__getitem__(1)[1])\r\n",
    "#输出数据集的长度\r\n",
    "print(train_dataset.__len__())\r\n",
    "print('=============eval_dataset =============')\r\n",
    "#输出数据集的形状和标签\r\n",
    "for data, label in eval_dataset:\r\n",
    "    print(data.shape, label)\r\n",
    "    break\r\n",
    "#输出数据集的长度\r\n",
    "print(eval_dataset.__len__())"
   ]
  },
  {
   "cell_type": "markdown",
   "metadata": {
    "collapsed": false
   },
   "source": [
    "### 飞桨内置数据集\n",
    "\n",
    "本案例将会介绍飞桨提供的API完成数据集的下载并为后续的训练任务准备好数据迭代器。cifar10数据集由60000张大小为32 * 32的彩色图片组成，其中有50000张图片组成了训练集，另外10000张图片组成了测试集。这些图片分为10个类别，将训练一个模型能够把图片进行正确的分类。\n",
    "\n",
    "这种方式跟上方的自定义数据集是一样的，只不过飞桨帮助大家进行了封装，使用更加方便~"
   ]
  },
  {
   "cell_type": "code",
   "execution_count": 7,
   "metadata": {
    "collapsed": false
   },
   "outputs": [
    {
     "name": "stdout",
     "output_type": "stream",
     "text": [
      "飞桨内置数据集： ['DatasetFolder', 'ImageFolder', 'MNIST', 'FashionMNIST', 'Flowers', 'Cifar10', 'Cifar100', 'VOC2012']\n"
     ]
    }
   ],
   "source": [
    "print('飞桨内置数据集：', paddle.vision.datasets.__all__)"
   ]
  },
  {
   "cell_type": "code",
   "execution_count": 8,
   "metadata": {
    "collapsed": false
   },
   "outputs": [],
   "source": [
    "# transform = ToTensor()\r\n",
    "# train_dataset = paddle.vision.datasets.Cifar10(mode='train',\r\n",
    "#                                                transform=transform)\r\n",
    "# eval_dataset = paddle.vision.datasets.Cifar10(mode='test',\r\n",
    "#                                               transform=transform)"
   ]
  },
  {
   "cell_type": "code",
   "execution_count": 9,
   "metadata": {
    "collapsed": false
   },
   "outputs": [],
   "source": [
    "Batch=0\r\n",
    "Batchs=[]\r\n",
    "all_train_accs = []\r\n",
    "def draw_train_acc(Batchs, train_accs):\r\n",
    "    title=\"training accs\"\r\n",
    "    plt.title(title, fontsize=24)\r\n",
    "    plt.xlabel(\"batch\", fontsize=14)\r\n",
    "    plt.ylabel(\"acc\", fontsize=14)\r\n",
    "    plt.plot(Batchs, train_accs, color='green', label='training accs')\r\n",
    "    plt.legend()\r\n",
    "    plt.grid()\r\n",
    "    plt.show()\r\n",
    "all_train_loss = []\r\n",
    "def draw_train_loss(Batchs, train_loss):\r\n",
    "    title=\"training loss\"\r\n",
    "    plt.title(title, fontsize=24)\r\n",
    "    plt.xlabel(\"batch\", fontsize=14)\r\n",
    "    plt.ylabel(\"loss\", fontsize=14)\r\n",
    "    plt.plot(Batchs, train_loss, color='red', label='training loss')\r\n",
    "    plt.legend()\r\n",
    "    plt.grid()\r\n",
    "    plt.show()"
   ]
  },
  {
   "cell_type": "markdown",
   "metadata": {
    "collapsed": false
   },
   "source": [
    "## **Step2.网络配置**\n",
    "\n",
    "**（1）RESNET网络模型**\n",
    "\n",
    "![](https://ai-studio-static-online.cdn.bcebos.com/3ae4dc4ebb3947fab983aefef213a7f803976bb5947b45e88d8732b06e4b200d)\n",
    "\n",
    "本示例直接调用飞桨API内置网络，resnet18进行训练！\n",
    "\n",
    "**（2）飞桨内置网络**"
   ]
  },
  {
   "cell_type": "code",
   "execution_count": 10,
   "metadata": {
    "collapsed": false
   },
   "outputs": [
    {
     "name": "stdout",
     "output_type": "stream",
     "text": [
      "飞桨内置网络： ['ResNet', 'resnet18', 'resnet34', 'resnet50', 'resnet101', 'resnet152', 'VGG', 'vgg11', 'vgg13', 'vgg16', 'vgg19', 'MobileNetV1', 'mobilenet_v1', 'MobileNetV2', 'mobilenet_v2', 'LeNet']\n"
     ]
    }
   ],
   "source": [
    "print('飞桨内置网络：', paddle.vision.models.__all__)"
   ]
  },
  {
   "cell_type": "code",
   "execution_count": 11,
   "metadata": {
    "collapsed": false
   },
   "outputs": [
    {
     "name": "stdout",
     "output_type": "stream",
     "text": [
      "-------------------------------------------------------------------------------\n",
      "   Layer (type)         Input Shape          Output Shape         Param #    \n",
      "===============================================================================\n",
      "     Conv2D-1         [[1, 3, 32, 32]]     [1, 64, 16, 16]         9,408     \n",
      "   BatchNorm2D-1     [[1, 64, 16, 16]]     [1, 64, 16, 16]          256      \n",
      "      ReLU-1         [[1, 64, 16, 16]]     [1, 64, 16, 16]           0       \n",
      "    MaxPool2D-1      [[1, 64, 16, 16]]      [1, 64, 8, 8]            0       \n",
      "     Conv2D-2         [[1, 64, 8, 8]]       [1, 64, 8, 8]         36,864     \n",
      "   BatchNorm2D-2      [[1, 64, 8, 8]]       [1, 64, 8, 8]           256      \n",
      "      ReLU-2          [[1, 64, 8, 8]]       [1, 64, 8, 8]            0       \n",
      "     Conv2D-3         [[1, 64, 8, 8]]       [1, 64, 8, 8]         36,864     \n",
      "   BatchNorm2D-3      [[1, 64, 8, 8]]       [1, 64, 8, 8]           256      \n",
      "   BasicBlock-1       [[1, 64, 8, 8]]       [1, 64, 8, 8]            0       \n",
      "     Conv2D-4         [[1, 64, 8, 8]]       [1, 64, 8, 8]         36,864     \n",
      "   BatchNorm2D-4      [[1, 64, 8, 8]]       [1, 64, 8, 8]           256      \n",
      "      ReLU-3          [[1, 64, 8, 8]]       [1, 64, 8, 8]            0       \n",
      "     Conv2D-5         [[1, 64, 8, 8]]       [1, 64, 8, 8]         36,864     \n",
      "   BatchNorm2D-5      [[1, 64, 8, 8]]       [1, 64, 8, 8]           256      \n",
      "   BasicBlock-2       [[1, 64, 8, 8]]       [1, 64, 8, 8]            0       \n",
      "     Conv2D-7         [[1, 64, 8, 8]]       [1, 128, 4, 4]        73,728     \n",
      "   BatchNorm2D-7      [[1, 128, 4, 4]]      [1, 128, 4, 4]          512      \n",
      "      ReLU-4          [[1, 128, 4, 4]]      [1, 128, 4, 4]           0       \n",
      "     Conv2D-8         [[1, 128, 4, 4]]      [1, 128, 4, 4]        147,456    \n",
      "   BatchNorm2D-8      [[1, 128, 4, 4]]      [1, 128, 4, 4]          512      \n",
      "     Conv2D-6         [[1, 64, 8, 8]]       [1, 128, 4, 4]         8,192     \n",
      "   BatchNorm2D-6      [[1, 128, 4, 4]]      [1, 128, 4, 4]          512      \n",
      "   BasicBlock-3       [[1, 64, 8, 8]]       [1, 128, 4, 4]           0       \n",
      "     Conv2D-9         [[1, 128, 4, 4]]      [1, 128, 4, 4]        147,456    \n",
      "   BatchNorm2D-9      [[1, 128, 4, 4]]      [1, 128, 4, 4]          512      \n",
      "      ReLU-5          [[1, 128, 4, 4]]      [1, 128, 4, 4]           0       \n",
      "     Conv2D-10        [[1, 128, 4, 4]]      [1, 128, 4, 4]        147,456    \n",
      "  BatchNorm2D-10      [[1, 128, 4, 4]]      [1, 128, 4, 4]          512      \n",
      "   BasicBlock-4       [[1, 128, 4, 4]]      [1, 128, 4, 4]           0       \n",
      "     Conv2D-12        [[1, 128, 4, 4]]      [1, 256, 2, 2]        294,912    \n",
      "  BatchNorm2D-12      [[1, 256, 2, 2]]      [1, 256, 2, 2]         1,024     \n",
      "      ReLU-6          [[1, 256, 2, 2]]      [1, 256, 2, 2]           0       \n",
      "     Conv2D-13        [[1, 256, 2, 2]]      [1, 256, 2, 2]        589,824    \n",
      "  BatchNorm2D-13      [[1, 256, 2, 2]]      [1, 256, 2, 2]         1,024     \n",
      "     Conv2D-11        [[1, 128, 4, 4]]      [1, 256, 2, 2]        32,768     \n",
      "  BatchNorm2D-11      [[1, 256, 2, 2]]      [1, 256, 2, 2]         1,024     \n",
      "   BasicBlock-5       [[1, 128, 4, 4]]      [1, 256, 2, 2]           0       \n",
      "     Conv2D-14        [[1, 256, 2, 2]]      [1, 256, 2, 2]        589,824    \n",
      "  BatchNorm2D-14      [[1, 256, 2, 2]]      [1, 256, 2, 2]         1,024     \n",
      "      ReLU-7          [[1, 256, 2, 2]]      [1, 256, 2, 2]           0       \n",
      "     Conv2D-15        [[1, 256, 2, 2]]      [1, 256, 2, 2]        589,824    \n",
      "  BatchNorm2D-15      [[1, 256, 2, 2]]      [1, 256, 2, 2]         1,024     \n",
      "   BasicBlock-6       [[1, 256, 2, 2]]      [1, 256, 2, 2]           0       \n",
      "     Conv2D-17        [[1, 256, 2, 2]]      [1, 512, 1, 1]       1,179,648   \n",
      "  BatchNorm2D-17      [[1, 512, 1, 1]]      [1, 512, 1, 1]         2,048     \n",
      "      ReLU-8          [[1, 512, 1, 1]]      [1, 512, 1, 1]           0       \n",
      "     Conv2D-18        [[1, 512, 1, 1]]      [1, 512, 1, 1]       2,359,296   \n",
      "  BatchNorm2D-18      [[1, 512, 1, 1]]      [1, 512, 1, 1]         2,048     \n",
      "     Conv2D-16        [[1, 256, 2, 2]]      [1, 512, 1, 1]        131,072    \n",
      "  BatchNorm2D-16      [[1, 512, 1, 1]]      [1, 512, 1, 1]         2,048     \n",
      "   BasicBlock-7       [[1, 256, 2, 2]]      [1, 512, 1, 1]           0       \n",
      "     Conv2D-19        [[1, 512, 1, 1]]      [1, 512, 1, 1]       2,359,296   \n",
      "  BatchNorm2D-19      [[1, 512, 1, 1]]      [1, 512, 1, 1]         2,048     \n",
      "      ReLU-9          [[1, 512, 1, 1]]      [1, 512, 1, 1]           0       \n",
      "     Conv2D-20        [[1, 512, 1, 1]]      [1, 512, 1, 1]       2,359,296   \n",
      "  BatchNorm2D-20      [[1, 512, 1, 1]]      [1, 512, 1, 1]         2,048     \n",
      "   BasicBlock-8       [[1, 512, 1, 1]]      [1, 512, 1, 1]           0       \n",
      "AdaptiveAvgPool2D-1   [[1, 512, 1, 1]]      [1, 512, 1, 1]           0       \n",
      "     Linear-1            [[1, 512]]           [1, 1000]           513,000    \n",
      "===============================================================================\n",
      "Total params: 11,699,112\n",
      "Trainable params: 11,679,912\n",
      "Non-trainable params: 19,200\n",
      "-------------------------------------------------------------------------------\n",
      "Input size (MB): 0.01\n",
      "Forward/backward pass size (MB): 1.18\n",
      "Params size (MB): 44.63\n",
      "Estimated Total Size (MB): 45.82\n",
      "-------------------------------------------------------------------------------\n",
      "\n"
     ]
    },
    {
     "data": {
      "text/plain": [
       "{'total_params': 11699112, 'trainable_params': 11679912}"
      ]
     },
     "execution_count": 11,
     "metadata": {},
     "output_type": "execute_result"
    }
   ],
   "source": [
    "model = paddle.vision.models.resnet50()\r\n",
    "paddle.summary(model,(1,3,32,32))"
   ]
  },
  {
   "cell_type": "markdown",
   "metadata": {
    "collapsed": false
   },
   "source": [
    "## **Step3.模型训练**"
   ]
  },
  {
   "cell_type": "markdown",
   "metadata": {
    "collapsed": false
   },
   "source": [
    "### 方式1：基于基础API，完成模型的训练与预测\n",
    "\n",
    "接下来，用一个循环来进行模型的训练，将会:\n",
    "\n",
    "使用 paddle.optimizer.Adam 优化器来进行优化。\n",
    "\n",
    "使用 F.cross_entropy 来计算损失值。\n",
    "\n",
    "使用 paddle.io.DataLoader 来加载数据并组建batch。"
   ]
  },
  {
   "cell_type": "code",
   "execution_count": 12,
   "metadata": {
    "collapsed": false
   },
   "outputs": [
    {
     "name": "stdout",
     "output_type": "stream",
     "text": [
      "start training ... \n"
     ]
    },
    {
     "name": "stderr",
     "output_type": "stream",
     "text": [
      "/opt/conda/envs/python35-paddle120-env/lib/python3.7/site-packages/paddle/nn/layer/norm.py:648: UserWarning: When training, we now always track global mean and variance.\n",
      "  \"When training, we now always track global mean and variance.\")\n"
     ]
    },
    {
     "name": "stdout",
     "output_type": "stream",
     "text": [
      "train_pass:0,batch_id:100,train_loss:[1.630249],train_acc:[0.359375]\n",
      "train_pass:0,batch_id:200,train_loss:[1.3312485],train_acc:[0.546875]\n",
      "train_pass:0,batch_id:300,train_loss:[1.509393],train_acc:[0.53125]\n",
      "train_pass:0,batch_id:400,train_loss:[1.19764],train_acc:[0.578125]\n",
      "train_pass:0,batch_id:500,train_loss:[1.405709],train_acc:[0.53125]\n",
      "train_pass:0,batch_id:600,train_loss:[0.9647112],train_acc:[0.6875]\n",
      "train_pass:0,batch_id:700,train_loss:[1.1553544],train_acc:[0.59375]\n"
     ]
    },
    {
     "name": "stderr",
     "output_type": "stream",
     "text": [
      "/opt/conda/envs/python35-paddle120-env/lib/python3.7/site-packages/matplotlib/cbook/__init__.py:2349: DeprecationWarning: Using or importing the ABCs from 'collections' instead of from 'collections.abc' is deprecated, and in 3.8 it will stop working\n",
      "  if isinstance(obj, collections.Iterator):\n",
      "/opt/conda/envs/python35-paddle120-env/lib/python3.7/site-packages/matplotlib/cbook/__init__.py:2366: DeprecationWarning: Using or importing the ABCs from 'collections' instead of from 'collections.abc' is deprecated, and in 3.8 it will stop working\n",
      "  return list(data) if isinstance(data, collections.MappingView) else data\n"
     ]
    },
    {
     "data": {
      "image/png": "[encoded data removed]",
      "text/plain": [
       "<Figure size 432x288 with 1 Axes>"
      ]
     },
     "metadata": {},
     "output_type": "display_data"
    },
    {
     "data": {
      "image/png": "[encoded data removed]",
      "text/plain": [
       "<Figure size 432x288 with 1 Axes>"
      ]
     },
     "metadata": {},
     "output_type": "display_data"
    }
   ],
   "source": [
    "print('start training ... ')\r\n",
    "# turn into training mode\r\n",
    "model.train()\r\n",
    "\r\n",
    "opt = paddle.optimizer.Adam(learning_rate=lr,\r\n",
    "                            parameters=model.parameters())\r\n",
    "\r\n",
    "train_loader = paddle.io.DataLoader(train_dataset,\r\n",
    "                                    shuffle=True,\r\n",
    "                                    batch_size=batch_size)\r\n",
    "\r\n",
    "valid_loader = paddle.io.DataLoader(eval_dataset, batch_size=batch_size)\r\n",
    "\r\n",
    "for epoch in range(epoch_num):\r\n",
    "    for batch_id, data in enumerate(train_loader()):\r\n",
    "        x_data = data[0]\r\n",
    "        y_data = paddle.to_tensor(data[1])\r\n",
    "        y_data = paddle.unsqueeze(y_data, 1)\r\n",
    "\r\n",
    "        logits = model(x_data)\r\n",
    "        loss = F.cross_entropy(logits, y_data)\r\n",
    "        acc = paddle.metric.accuracy(logits,y_data)#计算精度\r\n",
    "        if batch_id!=0 and batch_id%100==0:\r\n",
    "            Batch = Batch + 100 \r\n",
    "            Batchs.append(Batch)\r\n",
    "            all_train_loss.append(loss.numpy()[0])\r\n",
    "            all_train_accs.append(acc.numpy()[0])\r\n",
    "            print(\"train_pass:{},batch_id:{},train_loss:{},train_acc:{}\".format(epoch,batch_id,loss.numpy(),acc.numpy()))\r\n",
    "        loss.backward()\r\n",
    "        opt.step()\r\n",
    "        opt.clear_grad() #opt.clear_grad()来重置梯度\r\n",
    "paddle.save(model.state_dict(),'resnet18')#保存模型\r\n",
    "draw_train_acc(Batchs,all_train_accs)\r\n",
    "draw_train_loss(Batchs,all_train_loss)"
   ]
  },
  {
   "cell_type": "markdown",
   "metadata": {
    "collapsed": false
   },
   "source": [
    "### 模型验证\n",
    "训练完成后，需要验证模型的效果，此时，加载测试数据集，然后用训练好的模对测试集进行预测，计算损失与精度。"
   ]
  },
  {
   "cell_type": "code",
   "execution_count": 13,
   "metadata": {
    "collapsed": false
   },
   "outputs": [
    {
     "name": "stdout",
     "output_type": "stream",
     "text": [
      "当前模型在验证集上的准确率为: 0.56399286\n"
     ]
    }
   ],
   "source": [
    "#模型评估\r\n",
    "para_state_dict = paddle.load(\"resnet18\")\r\n",
    "model.set_state_dict(para_state_dict) #加载模型参数\r\n",
    "model.eval() #训练模式\r\n",
    "\r\n",
    "accs = []\r\n",
    "\r\n",
    "for batch_id,data in enumerate(valid_loader()):#测试集\r\n",
    "    x_data = data[0]\r\n",
    "    y_data = paddle.to_tensor(data[1])\r\n",
    "    y_data = paddle.unsqueeze(y_data, 1)\r\n",
    "    logits = model(x_data)\r\n",
    "    acc = paddle.metric.accuracy(logits, y_data)\r\n",
    "    accs.append(acc.numpy())\r\n",
    "    avg_acc = np.mean(accs)\r\n",
    "    \r\n",
    "print(\"当前模型在验证集上的准确率为:\",avg_acc)"
   ]
  },
  {
   "cell_type": "markdown",
   "metadata": {
    "collapsed": false
   },
   "source": [
    "### 模型预测"
   ]
  },
  {
   "cell_type": "code",
   "execution_count": 14,
   "metadata": {
    "collapsed": false
   },
   "outputs": [],
   "source": [
    "# 图片预处理\r\n",
    "def load_image(file):\r\n",
    "        '''\r\n",
    "        预测图片预处理\r\n",
    "        '''\r\n",
    "        #打开图片\r\n",
    "        im = Image.open(file)\r\n",
    "        #将图片调整为跟训练数据一样的大小  32*32，设定ANTIALIAS，即抗锯齿.resize是缩放\r\n",
    "        im = im.resize((32, 32), Image.ANTIALIAS)\r\n",
    "        #建立图片矩阵 类型为float32\r\n",
    "        im = np.array(im).astype(np.float32)\r\n",
    "        #矩阵转置 \r\n",
    "        im = im.transpose((2, 0, 1))                               \r\n",
    "        #将像素值从【0-255】转换为【0-1】\r\n",
    "        im = im / 255.0\r\n",
    "        #print(im)       \r\n",
    "        im = np.expand_dims(im, axis=0)\r\n",
    "        # 保持和之前输入image维度一致\r\n",
    "        print('im_shape的维度：',im.shape)\r\n",
    "        return im"
   ]
  },
  {
   "cell_type": "code",
   "execution_count": 15,
   "metadata": {
    "collapsed": false
   },
   "outputs": [
    {
     "data": {
      "image/png": "[encoded data removed]",
      "text/plain": [
       "<Figure size 432x288 with 1 Axes>"
      ]
     },
     "metadata": {},
     "output_type": "display_data"
    },
    {
     "name": "stdout",
     "output_type": "stream",
     "text": [
      "im_shape的维度： (1, 3, 32, 32)\n",
      "dog\n"
     ]
    }
   ],
   "source": [
    "'''\r\n",
    "模型预测\r\n",
    "'''\r\n",
    "para_state_dict = paddle.load(\"resnet18\")\r\n",
    "model = paddle.vision.models.resnet18()\r\n",
    "model.set_state_dict(para_state_dict) #加载模型参数\r\n",
    "model.eval() #训练模式\r\n",
    "\r\n",
    "#展示预测图片\r\n",
    "infer_path='/home/aistudio/data/data7940/dog.png'\r\n",
    "img = Image.open(infer_path)\r\n",
    "plt.imshow(img)          #根据数组绘制图像\r\n",
    "plt.show()               #显示图像\r\n",
    "\r\n",
    "#对预测图片进行预处理\r\n",
    "infer_img = load_image(infer_path)\r\n",
    "infer_img = infer_img.reshape(3,32,32)\r\n",
    "\r\n",
    "#定义标签列表\r\n",
    "label_list = [ \"airplane\", \"automobile\", \"bird\", \"cat\", \"deer\", \"dog\", \"frog\", \"horse\",\"ship\", \"truck\"]\r\n",
    "\r\n",
    "data = infer_img\r\n",
    "dy_x_data = np.array(data).astype('float32')\r\n",
    "dy_x_data=dy_x_data[np.newaxis,:, : ,:]\r\n",
    "img = paddle.to_tensor (dy_x_data)\r\n",
    "out = model(img)\r\n",
    "lab = np.argmax(out.numpy())  #argmax():返回最大数的索引\r\n",
    "print(label_list[lab])"
   ]
  },
  {
   "cell_type": "markdown",
   "metadata": {
    "collapsed": false
   },
   "source": [
    "### 方式2：基于高层API，完成模型的训练与预测"
   ]
  },
  {
   "cell_type": "code",
   "execution_count": 16,
   "metadata": {
    "collapsed": false
   },
   "outputs": [
    {
     "name": "stdout",
     "output_type": "stream",
     "text": [
      "The loss value printed in the log is the current step, and the metric is the average value of previous step.\n",
      "Epoch 1/1\n",
      "step  10/782 [..............................] - loss: 1.0995 - acc: 0.6062 - ETA: 25s - 33ms/step"
     ]
    },
    {
     "name": "stderr",
     "output_type": "stream",
     "text": [
      "/opt/conda/envs/python35-paddle120-env/lib/python3.7/site-packages/paddle/fluid/layers/utils.py:77: DeprecationWarning: Using or importing the ABCs from 'collections' instead of from 'collections.abc' is deprecated, and in 3.8 it will stop working\n",
      "  return (isinstance(seq, collections.Sequence) and\n"
     ]
    },
    {
     "name": "stdout",
     "output_type": "stream",
     "text": [
      "step 782/782 [==============================] - loss: 1.0933 - acc: 0.6358 - 21ms/step        \n",
      "save checkpoint at /home/aistudio/chk_points/0\n",
      "Eval begin...\n",
      "The loss value printed in the log is the current batch, and the metric is the average value of previous step.\n",
      "step 157/157 [==============================] - loss: 0.8053 - acc: 0.6242 - 10ms/step        \n",
      "Eval samples: 10000\n",
      "save checkpoint at /home/aistudio/chk_points/final\n"
     ]
    }
   ],
   "source": [
    "#step3:训练模型\r\n",
    "# 用Model封装模型\r\n",
    "model = paddle.Model(model)\r\n",
    "# 定义损失函数\r\n",
    "model.prepare(optimizer=paddle.optimizer.Adam(parameters=model.parameters()),\r\n",
    "                    loss=paddle.nn.CrossEntropyLoss(),\r\n",
    "                    metrics=paddle.metric.Accuracy())\r\n",
    "# 训练可视化VisualDL工具的回调函数\r\n",
    "visualdl = paddle.callbacks.VisualDL(log_dir='visualdl_log')\r\n",
    "# 启动模型全流程训练\r\n",
    "model.fit(train_dataset,            # 训练数据集\r\n",
    "           eval_dataset,            # 评估数据集\r\n",
    "          epochs=epoch_num,            # 总的训练轮次\r\n",
    "          batch_size = batch_size,    # 批次计算的样本量大小\r\n",
    "          shuffle=True,             # 是否打乱样本集\r\n",
    "          verbose=1,                # 日志展示格式\r\n",
    "          save_dir='./chk_points/', # 分阶段的训练模型存储路径\r\n",
    "          callbacks=[visualdl])     # 回调函数使用\r\n",
    "#保存模型\r\n",
    "model.save('model_save_dir')"
   ]
  },
  {
   "cell_type": "markdown",
   "metadata": {
    "collapsed": false
   },
   "source": [
    "### 模型验证"
   ]
  },
  {
   "cell_type": "code",
   "execution_count": 17,
   "metadata": {
    "collapsed": false
   },
   "outputs": [
    {
     "name": "stdout",
     "output_type": "stream",
     "text": [
      "Eval begin...\n",
      "The loss value printed in the log is the current batch, and the metric is the average value of previous step.\n",
      "step 157/157 [==============================] - loss: 0.8053 - acc: 0.6242 - 11ms/step        \n",
      "Eval samples: 10000\n"
     ]
    },
    {
     "data": {
      "text/plain": [
       "{'loss': [0.80527794], 'acc': 0.6242}"
      ]
     },
     "execution_count": 17,
     "metadata": {},
     "output_type": "execute_result"
    }
   ],
   "source": [
    "model.evaluate(eval_dataset, batch_size=batch_size, verbose=1)"
   ]
  },
  {
   "cell_type": "markdown",
   "metadata": {
    "collapsed": false
   },
   "source": [
    "### 模型预测"
   ]
  },
  {
   "cell_type": "code",
   "execution_count": 18,
   "metadata": {
    "collapsed": false
   },
   "outputs": [
    {
     "data": {
      "image/png": "[encoded data removed]",
      "text/plain": [
       "<Figure size 432x288 with 1 Axes>"
      ]
     },
     "metadata": {},
     "output_type": "display_data"
    },
    {
     "name": "stdout",
     "output_type": "stream",
     "text": [
      "im_shape的维度： (1, 3, 32, 32)\n",
      "Predict begin...\n",
      "step 1/1 [==============================] - 10ms/step\n",
      "Predict samples: 1\n",
      "infer results: airplane\n"
     ]
    }
   ],
   "source": [
    "#定义标签列表\r\n",
    "label_list = [ \"airplane\", \"automobile\", \"bird\", \"cat\", \"deer\", \"dog\", \"frog\", \"horse\",\"ship\", \"truck\"]\r\n",
    "#读入测试图片并展示\r\n",
    "infer_path='/home/aistudio/data/data7940/dog.png'\r\n",
    "img = Image.open(infer_path)\r\n",
    "plt.imshow(img)   \r\n",
    "plt.show()    \r\n",
    "\r\n",
    "#载入要预测的图片\r\n",
    "infer_img = load_image(infer_path)\r\n",
    "infer_img = infer_img.reshape(1,1,3,32,32)\r\n",
    "#将图片变为数组\r\n",
    "# infer_img=np.array(infer_img).astype('float32')\r\n",
    "#进行预测\r\n",
    "result = model.predict(infer_img)\r\n",
    "# 输出预测结果\r\n",
    "# print('results',result)\r\n",
    "print(\"infer results: %s\" % label_list[np.argmax(result[0][0])])  "
   ]
  }
 ],
 "metadata": {
  "kernelspec": {
   "display_name": "PaddlePaddle 2.0.0b0 (Python 3.5)",
   "language": "python",
   "name": "py35-paddle1.2.0"
  },
  "language_info": {
   "codemirror_mode": {
    "name": "ipython",
    "version": 3
   },
   "file_extension": ".py",
   "mimetype": "text/x-python",
   "name": "python",
   "nbconvert_exporter": "python",
   "pygments_lexer": "ipython3",
   "version": "3.7.4"
  }
 },
 "nbformat": 4,
 "nbformat_minor": 1
}
