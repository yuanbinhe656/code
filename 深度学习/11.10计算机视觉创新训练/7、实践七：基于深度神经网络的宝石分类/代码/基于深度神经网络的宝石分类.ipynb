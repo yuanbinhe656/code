{
 "cells": [
  {
   "cell_type": "markdown",
   "metadata": {
    "collapsed": false
   },
   "source": [
    "# **任务描述：**\n",
    "\n",
    "### 本次实践是一个多分类任务，需要将照片中的宝石分别进行识别，完成**宝石的识别**\n",
    "\n",
    "### **实践平台：百度AI实训平台-AI Studio、PaddlePaddle2.0.0 动态图**\n",
    "\n",
    "\n",
    "![](https://ai-studio-static-online.cdn.bcebos.com/7640d4434f894f5dbae1d85c62e54b8476e24856aabc4c5f9915fea1b26f3ebc)\n"
   ]
  },
  {
   "cell_type": "markdown",
   "metadata": {
    "collapsed": false
   },
   "source": [
    "# 深度神经网络(DNN)\n",
    "\n",
    "### **深度神经网络（Deep Neural Networks，简称DNN）是深度学习的基础，其结构为input、hidden（可有多层）、output，每层均为全连接。**\n",
    "![](https://ai-studio-static-online.cdn.bcebos.com/c60fc28848cf469fa3a7824aa637a03f3b2b213ce7b84659919cb24b4430bffb)\n",
    "\n"
   ]
  },
  {
   "cell_type": "markdown",
   "metadata": {
    "collapsed": false
   },
   "source": [
    "# 数据集介绍\n",
    "\n",
    "* **数据集文件名为archive_train.zip,archive_test.zip。**\n",
    "\n",
    "* **该数据集包含25个类别不同宝石的图像。**\n",
    "\n",
    "* **这些类别已经分为训练和测试数据。**\n",
    "\n",
    "* **图像大小不一，格式为.jpeg。**\n",
    "\n",
    "\n",
    "![](https://ai-studio-static-online.cdn.bcebos.com/7640d4434f894f5dbae1d85c62e54b8476e24856aabc4c5f9915fea1b26f3ebc)\n"
   ]
  },
  {
   "cell_type": "code",
   "execution_count": 1,
   "metadata": {
    "collapsed": false
   },
   "outputs": [
    {
     "name": "stdout",
     "output_type": "stream",
     "text": [
      "data55032\r\n"
     ]
    }
   ],
   "source": [
    "# 查看当前挂载的数据集目录, 该目录下的变更重启环境后会自动还原\n",
    "# View dataset directory. This directory will be recovered automatically after resetting environment. \n",
    "!ls /home/aistudio/data"
   ]
  },
  {
   "cell_type": "code",
   "execution_count": 2,
   "metadata": {
    "collapsed": false
   },
   "outputs": [
    {
     "name": "stderr",
     "output_type": "stream",
     "text": [
      "/opt/conda/envs/python35-paddle120-env/lib/python3.7/site-packages/paddle/fluid/layers/utils.py:26: DeprecationWarning: `np.int` is a deprecated alias for the builtin `int`. To silence this warning, use `int` by itself. Doing this will not modify any behavior and is safe. When replacing `np.int`, you may wish to use e.g. `np.int64` or `np.int32` to specify the precision. If you wish to review your current use, check the release note link for additional information.\n",
      "Deprecated in NumPy 1.20; for more details and guidance: https://numpy.org/devdocs/release/1.20.0-notes.html#deprecations\n",
      "  def convert_to_list(value, n, name, dtype=np.int):\n",
      "/opt/conda/envs/python35-paddle120-env/lib/python3.7/site-packages/matplotlib/__init__.py:107: DeprecationWarning: Using or importing the ABCs from 'collections' instead of from 'collections.abc' is deprecated, and in 3.8 it will stop working\n",
      "  from collections import MutableMapping\n",
      "/opt/conda/envs/python35-paddle120-env/lib/python3.7/site-packages/matplotlib/rcsetup.py:20: DeprecationWarning: Using or importing the ABCs from 'collections' instead of from 'collections.abc' is deprecated, and in 3.8 it will stop working\n",
      "  from collections import Iterable, Mapping\n",
      "/opt/conda/envs/python35-paddle120-env/lib/python3.7/site-packages/matplotlib/colors.py:53: DeprecationWarning: Using or importing the ABCs from 'collections' instead of from 'collections.abc' is deprecated, and in 3.8 it will stop working\n",
      "  from collections import Sized\n",
      "2021-05-29 15:08:52,312 - INFO - font search path ['/opt/conda/envs/python35-paddle120-env/lib/python3.7/site-packages/matplotlib/mpl-data/fonts/ttf', '/opt/conda/envs/python35-paddle120-env/lib/python3.7/site-packages/matplotlib/mpl-data/fonts/afm', '/opt/conda/envs/python35-paddle120-env/lib/python3.7/site-packages/matplotlib/mpl-data/fonts/pdfcorefonts']\n",
      "2021-05-29 15:08:52,641 - INFO - generated new fontManager\n"
     ]
    }
   ],
   "source": [
    "#导入需要的包\n",
    "import os\n",
    "import zipfile\n",
    "import random\n",
    "import json\n",
    "import cv2\n",
    "import numpy as np\n",
    "from PIL import Image\n",
    "import paddle\n",
    "import matplotlib.pyplot as plt\n",
    "from paddle.io import Dataset"
   ]
  },
  {
   "cell_type": "markdown",
   "metadata": {
    "collapsed": false
   },
   "source": [
    "# 1、数据准备"
   ]
  },
  {
   "cell_type": "code",
   "execution_count": 3,
   "metadata": {
    "collapsed": false
   },
   "outputs": [],
   "source": [
    "'''\n",
    "参数配置\n",
    "'''\n",
    "train_parameters = {\n",
    "    \"input_size\": [3, 224, 224],                           #输入图片的shape\n",
    "    \"class_dim\": -1,                                     #分类数\n",
    "    \"src_path\":\"data/data55032/archive_train.zip\",       #原始数据集路径\n",
    "    \"target_path\":\"/home/aistudio/data/dataset\",        #要解压的路径 \n",
    "    \"train_list_path\": \"./train.txt\",              #train_data.txt路径\n",
    "    \"eval_list_path\": \"./eval.txt\",                  #eval_data.txt路径\n",
    "    \"label_dict\":{},                                    #标签字典\n",
    "    \"readme_path\": \"/home/aistudio/data/readme.json\",   #readme.json路径\n",
    "    \"num_epochs\": 1,                                    #训练轮数\n",
    "    \"train_batch_size\": 16,                             #批次的大小\n",
    "    \"learning_strategy\": {                              #优化函数相关的配置\n",
    "        \"lr\": 0.001                                     #超参数学习率\n",
    "    } \n",
    "}\n",
    "\n"
   ]
  },
  {
   "cell_type": "code",
   "execution_count": 4,
   "metadata": {
    "collapsed": false
   },
   "outputs": [],
   "source": [
    "def unzip_data(src_path,target_path):\n",
    "\n",
    "    '''\n",
    "    解压原始数据集，将src_path路径下的zip包解压至data/dataset目录下\n",
    "    '''\n",
    "\n",
    "    if(not os.path.isdir(target_path)):    \n",
    "        z = zipfile.ZipFile(src_path, 'r')\n",
    "        z.extractall(path=target_path)\n",
    "        z.close()\n",
    "    else:\n",
    "        print(\"文件已解压\")\n"
   ]
  },
  {
   "cell_type": "code",
   "execution_count": 5,
   "metadata": {
    "collapsed": false
   },
   "outputs": [],
   "source": [
    "def get_data_list(target_path,train_list_path,eval_list_path):\n",
    "    '''\n",
    "    生成数据列表\n",
    "    '''\n",
    "    #存放所有类别的信息\n",
    "    class_detail = []\n",
    "    #获取所有类别保存的文件夹名称\n",
    "    data_list_path=target_path\n",
    "    class_dirs = os.listdir(data_list_path)\n",
    "    if '__MACOSX' in class_dirs:\n",
    "        class_dirs.remove('__MACOSX')\n",
    "    # #总的图像数量\n",
    "    all_class_images = 0\n",
    "    # #存放类别标签\n",
    "    class_label=0\n",
    "    # #存放类别数目\n",
    "    class_dim = 0\n",
    "    # #存储要写进eval.txt和train.txt中的内容\n",
    "    trainer_list=[]\n",
    "    eval_list=[]\n",
    "    #读取每个类别\n",
    "    for class_dir in class_dirs:\n",
    "        if class_dir != \".DS_Store\":\n",
    "            class_dim += 1\n",
    "            #每个类别的信息\n",
    "            class_detail_list = {}\n",
    "            eval_sum = 0\n",
    "            trainer_sum = 0\n",
    "            #统计每个类别有多少张图片\n",
    "            class_sum = 0\n",
    "            #获取类别路径 \n",
    "            path = os.path.join(data_list_path,class_dir)\n",
    "            # 获取所有图片\n",
    "            img_paths = os.listdir(path)\n",
    "            for img_path in img_paths:                                  # 遍历文件夹下的每个图片\n",
    "                if img_path =='.DS_Store':\n",
    "                    continue\n",
    "                name_path = os.path.join(path,img_path)                       # 每张图片的路径\n",
    "                if class_sum % 15 == 0:                                 # 每10张图片取一个做验证数据\n",
    "                    eval_sum += 1                                       # eval_sum为测试数据的数目\n",
    "                    eval_list.append(name_path + \"\\t%d\" % class_label + \"\\n\")\n",
    "                else:\n",
    "                    trainer_sum += 1 \n",
    "                    trainer_list.append(name_path + \"\\t%d\" % class_label + \"\\n\")#trainer_sum测试数据的数目\n",
    "                class_sum += 1                                          #每类图片的数目\n",
    "                all_class_images += 1                                   #所有类图片的数目\n",
    "            \n",
    "            # 说明的json文件的class_detail数据\n",
    "            class_detail_list['class_name'] = class_dir             #类别名称\n",
    "            class_detail_list['class_label'] = class_label          #类别标签\n",
    "            class_detail_list['class_eval_images'] = eval_sum       #该类数据的测试集数目\n",
    "            class_detail_list['class_trainer_images'] = trainer_sum #该类数据的训练集数目\n",
    "            class_detail.append(class_detail_list)  \n",
    "            #初始化标签列表\n",
    "            train_parameters['label_dict'][str(class_label)] = class_dir\n",
    "            class_label += 1\n",
    "            \n",
    "    #初始化分类数\n",
    "    train_parameters['class_dim'] = class_dim\n",
    "    print(train_parameters)\n",
    "    #乱序  \n",
    "    random.shuffle(eval_list)\n",
    "    with open(eval_list_path, 'a') as f:\n",
    "        for eval_image in eval_list:\n",
    "            f.write(eval_image) \n",
    "    #乱序        \n",
    "    random.shuffle(trainer_list) \n",
    "    with open(train_list_path, 'a') as f2:\n",
    "        for train_image in trainer_list:\n",
    "            f2.write(train_image) \n",
    "\n",
    "    # 说明的json文件信息\n",
    "    readjson = {}\n",
    "    readjson['all_class_name'] = data_list_path                  #文件父目录\n",
    "    readjson['all_class_images'] = all_class_images\n",
    "    readjson['class_detail'] = class_detail\n",
    "    jsons = json.dumps(readjson, sort_keys=True, indent=4, separators=(',', ': '))\n",
    "    with open(train_parameters['readme_path'],'w') as f:\n",
    "        f.write(jsons)\n",
    "    print ('生成数据列表完成！')"
   ]
  },
  {
   "cell_type": "code",
   "execution_count": 6,
   "metadata": {
    "collapsed": false
   },
   "outputs": [
    {
     "name": "stdout",
     "output_type": "stream",
     "text": [
      "{'input_size': [3, 224, 224], 'class_dim': 25, 'src_path': 'data/data55032/archive_train.zip', 'target_path': '/home/aistudio/data/dataset', 'train_list_path': './train.txt', 'eval_list_path': './eval.txt', 'label_dict': {'0': 'Pearl', '1': 'Emerald', '2': 'Cats Eye', '3': 'Tanzanite', '4': 'Quartz Beer', '5': 'Kunzite', '6': 'Danburite', '7': 'Labradorite', '8': 'Jade', '9': 'Onyx Black', '10': 'Almandine', '11': 'Diamond', '12': 'Garnet Red', '13': 'Fluorite', '14': 'Benitoite', '15': 'Hessonite', '16': 'Iolite', '17': 'Sapphire Blue', '18': 'Variscite', '19': 'Carnelian', '20': 'Malachite', '21': 'Rhodochrosite', '22': 'Beryl Golden', '23': 'Alexandrite', '24': 'Zircon'}, 'readme_path': '/home/aistudio/data/readme.json', 'num_epochs': 1, 'train_batch_size': 16, 'learning_strategy': {'lr': 0.001}}\n",
      "生成数据列表完成！\n"
     ]
    }
   ],
   "source": [
    "'''\n",
    "参数初始化\n",
    "'''\n",
    "src_path=train_parameters['src_path']\n",
    "target_path=train_parameters['target_path']\n",
    "train_list_path=train_parameters['train_list_path']\n",
    "eval_list_path=train_parameters['eval_list_path']\n",
    "batch_size=train_parameters['train_batch_size']\n",
    "'''\n",
    "解压原始数据到指定路径\n",
    "'''\n",
    "unzip_data(src_path,target_path)\n",
    "\n",
    "'''\n",
    "划分训练集与验证集，乱序，生成数据列表\n",
    "'''\n",
    "#每次生成数据列表前，首先清空train.txt和eval.txt\n",
    "with open(train_list_path, 'w') as f: \n",
    "    f.seek(0)\n",
    "    f.truncate() \n",
    "with open(eval_list_path, 'w') as f: \n",
    "    f.seek(0)\n",
    "    f.truncate() \n",
    "    \n",
    "#生成数据列表   \n",
    "get_data_list(target_path,train_list_path,eval_list_path)"
   ]
  },
  {
   "cell_type": "code",
   "execution_count": 7,
   "metadata": {
    "collapsed": false
   },
   "outputs": [],
   "source": [
    "class Reader(Dataset):\n",
    "    def __init__(self, data_path, mode='train'):\n",
    "        \"\"\"\n",
    "        数据读取器\n",
    "        :param data_path: 数据集所在路径\n",
    "        :param mode: train or eval\n",
    "        \"\"\"\n",
    "        super().__init__()\n",
    "        self.data_path = data_path\n",
    "        self.img_paths = []\n",
    "        self.labels = []\n",
    "\n",
    "        if mode == 'train':\n",
    "            with open(os.path.join(self.data_path, \"train.txt\"), \"r\", encoding=\"utf-8\") as f:\n",
    "                self.info = f.readlines()\n",
    "            for img_info in self.info:\n",
    "                img_path, label = img_info.strip().split('\\t')\n",
    "                self.img_paths.append(img_path)\n",
    "                self.labels.append(int(label))\n",
    "\n",
    "        else:\n",
    "            with open(os.path.join(self.data_path, \"eval.txt\"), \"r\", encoding=\"utf-8\") as f:\n",
    "                self.info = f.readlines()\n",
    "            for img_info in self.info:\n",
    "                img_path, label = img_info.strip().split('\\t')\n",
    "                self.img_paths.append(img_path)\n",
    "                self.labels.append(int(label))\n",
    "\n",
    "\n",
    "    def __getitem__(self, index):\n",
    "        \"\"\"\n",
    "        获取一组数据\n",
    "        :param index: 文件索引号\n",
    "        :return:\n",
    "        \"\"\"\n",
    "        # 第一步打开图像文件并获取label值\n",
    "        img_path = self.img_paths[index]\n",
    "        img = Image.open(img_path)\n",
    "        if img.mode != 'RGB':\n",
    "            img = img.convert('RGB') \n",
    "        img = img.resize((224, 224), Image.BILINEAR)\n",
    "        img = np.array(img).astype('float32')\n",
    "        img = img.transpose((2, 0, 1)) / 255\n",
    "        label = self.labels[index]\n",
    "        label = np.array([label], dtype=\"int64\")\n",
    "        return img, label\n",
    "\n",
    "    def print_sample(self, index: int = 0):\n",
    "        print(\"文件名\", self.img_paths[index], \"\\t标签值\", self.labels[index])\n",
    "\n",
    "    def __len__(self):\n",
    "        return len(self.img_paths)"
   ]
  },
  {
   "cell_type": "code",
   "execution_count": 8,
   "metadata": {
    "collapsed": false
   },
   "outputs": [],
   "source": [
    "train_dataset = Reader('/home/aistudio/',mode='train')\n",
    "\n",
    "eval_dataset = Reader('/home/aistudio/',mode='eval')\n",
    "\n",
    "#训练数据加载\n",
    "train_loader = paddle.io.DataLoader(train_dataset, batch_size=16, shuffle=True)\n",
    "#测试数据加载\n",
    "eval_loader = paddle.io.DataLoader(eval_dataset, batch_size = 8, shuffle=False)"
   ]
  },
  {
   "cell_type": "code",
   "execution_count": 9,
   "metadata": {
    "collapsed": false
   },
   "outputs": [
    {
     "name": "stdout",
     "output_type": "stream",
     "text": [
      "文件名 /home/aistudio/data/dataset/Almandine/almandine_19.jpg \t标签值 10\n",
      "742\n",
      "文件名 /home/aistudio/data/dataset/Rhodochrosite/rhodochrosite_25.jpg \t标签值 21\n",
      "69\n",
      "(3, 224, 224)\n",
      "(1,)\n"
     ]
    }
   ],
   "source": [
    "train_dataset.print_sample(200)\n",
    "print(train_dataset.__len__())\n",
    "eval_dataset.print_sample(0)\n",
    "print(eval_dataset.__len__())\n",
    "print(eval_dataset.__getitem__(10)[0].shape)\n",
    "print(eval_dataset.__getitem__(10)[1].shape)"
   ]
  },
  {
   "cell_type": "code",
   "execution_count": 10,
   "metadata": {
    "collapsed": false
   },
   "outputs": [],
   "source": [
    "Batch=0\n",
    "Batchs=[]\n",
    "all_train_accs=[]\n",
    "def draw_train_acc(Batchs, train_accs):\n",
    "    title=\"training accs\"\n",
    "    plt.title(title, fontsize=24)\n",
    "    plt.xlabel(\"batch\", fontsize=14)\n",
    "    plt.ylabel(\"acc\", fontsize=14)\n",
    "    plt.plot(Batchs, train_accs, color='green', label='training accs')\n",
    "    plt.legend()\n",
    "    plt.grid()\n",
    "    plt.show()\n",
    "\n",
    "all_train_loss=[]\n",
    "def draw_train_loss(Batchs, train_loss):\n",
    "    title=\"training loss\"\n",
    "    plt.title(title, fontsize=24)\n",
    "    plt.xlabel(\"batch\", fontsize=14)\n",
    "    plt.ylabel(\"loss\", fontsize=14)\n",
    "    plt.plot(Batchs, train_loss, color='red', label='training loss')\n",
    "    plt.legend()\n",
    "    plt.grid()\n",
    "    plt.show()"
   ]
  },
  {
   "cell_type": "markdown",
   "metadata": {
    "collapsed": false
   },
   "source": [
    "# 2、定义模型"
   ]
  },
  {
   "cell_type": "code",
   "execution_count": 11,
   "metadata": {
    "collapsed": false
   },
   "outputs": [],
   "source": [
    "#定义DNN网络\n",
    "class MyDNN(paddle.nn.Layer):\n",
    "    def __init__(self):\n",
    "        super(MyDNN,self).__init__()\n",
    "        self.linear1 = paddle.nn.Linear(in_features=3*224*224, out_features=1024)\n",
    "        self.relu1 = paddle.nn.ReLU()\n",
    "\n",
    "        self.linear2 = paddle.nn.Linear(in_features=1024, out_features=512)\n",
    "        self.relu2 = paddle.nn.ReLU()\n",
    "\n",
    "        self.linear3 = paddle.nn.Linear(in_features=512, out_features=128)\n",
    "        self.relu3 = paddle.nn.ReLU()\n",
    "\n",
    "        self.linear4 = paddle.nn.Linear(in_features=128, out_features=25)\n",
    "\n",
    "    def forward(self,input):        # forward 定义执行实际运行时网络的执行逻辑\n",
    "        # input.shape (16, 3, 224, 224)\n",
    "        x = paddle.reshape(input, shape=[-1,3*224*224]) #-1 表示这个维度的值是从x的元素总数和剩余维度推断出来的，有且只能有一个维度设置为-1\n",
    "        # print(x.shape)\n",
    "        x = self.linear1(x)\n",
    "        x = self.relu1(x)\n",
    "        # print('1', x.shape)\n",
    "        x = self.linear2(x)\n",
    "        x = self.relu2(x)\n",
    "        # print('2',x.shape)\n",
    "        x = self.linear3(x)\n",
    "        x = self.relu3(x)\n",
    "        # print('3',x.shape)\n",
    "        y = self.linear4(x)\n",
    "        # print('4',y.shape)\n",
    "        return y"
   ]
  },
  {
   "cell_type": "markdown",
   "metadata": {
    "collapsed": false
   },
   "source": [
    "# 3、训练模型"
   ]
  },
  {
   "cell_type": "code",
   "execution_count": 12,
   "metadata": {
    "collapsed": false
   },
   "outputs": [
    {
     "name": "stderr",
     "output_type": "stream",
     "text": [
      "/opt/conda/envs/python35-paddle120-env/lib/python3.7/site-packages/paddle/fluid/dataloader/dataloader_iter.py:89: DeprecationWarning: `np.bool` is a deprecated alias for the builtin `bool`. To silence this warning, use `bool` by itself. Doing this will not modify any behavior and is safe. If you specifically wanted the numpy scalar type, use `np.bool_` here.\n",
      "Deprecated in NumPy 1.20; for more details and guidance: https://numpy.org/devdocs/release/1.20.0-notes.html#deprecations\n",
      "  if isinstance(slot[0], (np.ndarray, np.bool, numbers.Number)):\n"
     ]
    },
    {
     "name": "stdout",
     "output_type": "stream",
     "text": [
      "train_pass:0,batch_id:5,train_loss:[3.2565346],train_acc:[0.0625]\n",
      "train_pass:0,batch_id:10,train_loss:[3.5876536],train_acc:[0.0625]\n",
      "train_pass:0,batch_id:15,train_loss:[3.2955537],train_acc:[0.]\n",
      "train_pass:0,batch_id:20,train_loss:[3.1761732],train_acc:[0.]\n",
      "train_pass:0,batch_id:25,train_loss:[2.9501166],train_acc:[0.0625]\n",
      "train_pass:0,batch_id:30,train_loss:[3.121417],train_acc:[0.0625]\n",
      "train_pass:0,batch_id:35,train_loss:[3.013526],train_acc:[0.0625]\n",
      "train_pass:0,batch_id:40,train_loss:[3.0046515],train_acc:[0.1875]\n",
      "train_pass:0,batch_id:45,train_loss:[2.9629142],train_acc:[0.1875]\n"
     ]
    },
    {
     "name": "stderr",
     "output_type": "stream",
     "text": [
      "/opt/conda/envs/python35-paddle120-env/lib/python3.7/site-packages/matplotlib/cbook/__init__.py:2349: DeprecationWarning: Using or importing the ABCs from 'collections' instead of from 'collections.abc' is deprecated, and in 3.8 it will stop working\n",
      "  if isinstance(obj, collections.Iterator):\n",
      "/opt/conda/envs/python35-paddle120-env/lib/python3.7/site-packages/matplotlib/cbook/__init__.py:2366: DeprecationWarning: Using or importing the ABCs from 'collections' instead of from 'collections.abc' is deprecated, and in 3.8 it will stop working\n",
      "  return list(data) if isinstance(data, collections.MappingView) else data\n"
     ]
    },
    {
     "data": {
      "image/png": "[encoded data removed]",
      "text/plain": [
       "<Figure size 432x288 with 1 Axes>"
      ]
     },
     "metadata": {},
     "output_type": "display_data"
    },
    {
     "data": {
      "image/png": "[encoded data removed]",
      "text/plain": [
       "<Figure size 432x288 with 1 Axes>"
      ]
     },
     "metadata": {},
     "output_type": "display_data"
    }
   ],
   "source": [
    "model=MyDNN() #模型实例化\n",
    "model.train() #训练模式\n",
    "cross_entropy = paddle.nn.CrossEntropyLoss()\n",
    "opt=paddle.optimizer.SGD(learning_rate=0.001, parameters=model.parameters())\n",
    "\n",
    "epochs_num=train_parameters['num_epochs'] #迭代次数\n",
    "for pass_num in range(train_parameters['num_epochs']):\n",
    "    for batch_id,data in enumerate(train_loader()):\n",
    "        image = data[0]\n",
    "        label = data[1]\n",
    "\n",
    "        predict=model(image) #数据传入model\n",
    "\n",
    "        loss=cross_entropy(predict,label)\n",
    "        acc=paddle.metric.accuracy(predict,label)#计算精度\n",
    "        \n",
    "        if batch_id!=0 and batch_id%5==0:\n",
    "            Batch = Batch+5 \n",
    "            Batchs.append(Batch)\n",
    "            all_train_loss.append(loss.numpy()[0])\n",
    "            all_train_accs.append(acc.numpy()[0])\n",
    "            \n",
    "            print(\"train_pass:{},batch_id:{},train_loss:{},train_acc:{}\".format(pass_num,batch_id,loss.numpy(),acc.numpy()))\n",
    "        \n",
    "        loss.backward()       \n",
    "        opt.step()\n",
    "        opt.clear_grad()   #opt.clear_grad()来重置梯度\n",
    "\n",
    "paddle.save(model.state_dict(),'MyDNN')#保存模型\n",
    "\n",
    "draw_train_acc(Batchs,all_train_accs)\n",
    "draw_train_loss(Batchs,all_train_loss)"
   ]
  },
  {
   "cell_type": "markdown",
   "metadata": {
    "collapsed": false
   },
   "source": [
    "# 4、模型评估"
   ]
  },
  {
   "cell_type": "code",
   "execution_count": 13,
   "metadata": {
    "collapsed": false
   },
   "outputs": [
    {
     "name": "stdout",
     "output_type": "stream",
     "text": [
      "当前模型在验证集上的准确率为: 0.11111111\n"
     ]
    }
   ],
   "source": [
    "#模型评估\n",
    "para_state_dict = paddle.load(\"MyDNN\")\n",
    "model = MyDNN()\n",
    "model.set_state_dict(para_state_dict) #加载模型参数\n",
    "model.eval() #验证模式\n",
    "\n",
    "accs = []\n",
    "\n",
    "for batch_id,data in enumerate(eval_loader()):#测试集\n",
    "    image=data[0]\n",
    "    label=data[1]     \n",
    "    predict=model(image)       \n",
    "    acc=paddle.metric.accuracy(predict,label)\n",
    "    accs.append(acc.numpy()[0])\n",
    "    avg_acc = np.mean(accs)\n",
    "print(\"当前模型在验证集上的准确率为:\",avg_acc)"
   ]
  },
  {
   "cell_type": "markdown",
   "metadata": {
    "collapsed": false
   },
   "source": [
    "# 5、模型预测"
   ]
  },
  {
   "cell_type": "code",
   "execution_count": 14,
   "metadata": {
    "collapsed": false
   },
   "outputs": [],
   "source": [
    "import os\n",
    "import zipfile\n",
    "\n",
    "def unzip_infer_data(src_path,target_path):\n",
    "    '''\n",
    "    解压预测数据集\n",
    "    '''\n",
    "    if(not os.path.isdir(target_path)):     \n",
    "        z = zipfile.ZipFile(src_path, 'r')\n",
    "        z.extractall(path=target_path)\n",
    "        z.close()\n",
    "\n",
    "\n",
    "def load_image(img_path):\n",
    "    '''\n",
    "    预测图片预处理\n",
    "    '''\n",
    "    img = Image.open(img_path) \n",
    "    if img.mode != 'RGB': \n",
    "        img = img.convert('RGB') \n",
    "    img = img.resize((224, 224), Image.BILINEAR)\n",
    "    img = np.array(img).astype('float32') \n",
    "    img = img.transpose((2, 0, 1))  # HWC to CHW \n",
    "    img = img/255                # 像素值归一化 \n",
    "    return img\n",
    "\n",
    "\n",
    "infer_src_path = '/home/aistudio/data/data55032/archive_test.zip'\n",
    "infer_dst_path = '/home/aistudio/data/archive_test'\n",
    "unzip_infer_data(infer_src_path,infer_dst_path)"
   ]
  },
  {
   "cell_type": "code",
   "execution_count": 15,
   "metadata": {
    "collapsed": false
   },
   "outputs": [
    {
     "data": {
      "image/png": "[encoded data removed]",
      "text/plain": [
       "<Figure size 432x288 with 1 Axes>"
      ]
     },
     "metadata": {},
     "output_type": "display_data"
    },
    {
     "name": "stdout",
     "output_type": "stream",
     "text": [
      "第1个样本,被预测为：Iolite,真实标签为：alexandrite\n",
      "结束\n"
     ]
    }
   ],
   "source": [
    "'''\n",
    "模型预测\n",
    "'''\n",
    "para_state_dict = paddle.load(\"MyDNN\")\n",
    "model = MyDNN()\n",
    "model.set_state_dict(para_state_dict) #加载模型参数\n",
    "model.eval() #训练模式\n",
    "\n",
    "#展示预测图片\n",
    "infer_path='data/archive_test/alexandrite_3.jpg'\n",
    "img = Image.open(infer_path)\n",
    "plt.imshow(img)          #根据数组绘制图像\n",
    "plt.show()               #显示图像\n",
    "\n",
    "#对预测图片进行预处理\n",
    "infer_imgs = []\n",
    "infer_imgs.append(load_image(infer_path))\n",
    "infer_imgs = np.array(infer_imgs)\n",
    "\n",
    "label_dic = train_parameters['label_dict']\n",
    "\n",
    "for i in range(len(infer_imgs)):\n",
    "    data = infer_imgs[i]\n",
    "    dy_x_data = np.array(data).astype('float32')\n",
    "    dy_x_data=dy_x_data[np.newaxis,:, : ,:]\n",
    "    img = paddle.to_tensor (dy_x_data)\n",
    "    out = model(img)\n",
    "    lab = np.argmax(out.numpy())  #argmax():返回最大数的索引\n",
    "\n",
    "    print(\"第{}个样本,被预测为：{},真实标签为：{}\".format(i+1,label_dic[str(lab)],infer_path.split('/')[-1].split(\"_\")[0]))\n",
    "        \n",
    "print(\"结束\")\n"
   ]
  }
 ],
 "metadata": {
  "kernelspec": {
   "display_name": "PaddlePaddle 2.0.0b0 (Python 3.5)",
   "language": "python",
   "name": "py35-paddle1.2.0"
  },
  "language_info": {
   "codemirror_mode": {
    "name": "ipython",
    "version": 3
   },
   "file_extension": ".py",
   "mimetype": "text/x-python",
   "name": "python",
   "nbconvert_exporter": "python",
   "pygments_lexer": "ipython3",
   "version": "3.7.4"
  }
 },
 "nbformat": 4,
 "nbformat_minor": 1
}
