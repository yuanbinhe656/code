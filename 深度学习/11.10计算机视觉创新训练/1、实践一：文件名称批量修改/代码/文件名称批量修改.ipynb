{
 "cells": [
  {
   "cell_type": "code",
   "execution_count": 1,
   "metadata": {
    "collapsed": false
   },
   "outputs": [
    {
     "name": "stdout",
     "output_type": "stream",
     "text": [
      "data/data105415/记事本.txt ======> data/data105415/rename_记事本.txt\n",
      "data/data105415/图片.png ======> data/data105415/rename_图片.png\n",
      "data/data105415/文档.docx ======> data/data105415/rename_文档.docx\n",
      "data/data105415/压缩包.rar ======> data/data105415/rename_压缩包.rar\n",
      "data/data105415/表格.xlsx ======> data/data105415/rename_表格.xlsx\n"
     ]
    }
   ],
   "source": [
    "import os\n",
    " \n",
    "# 函数功能：批量修改文件夹路径下所有文件的文件名，此处以在原文件名前面加一个'rename_'为例\n",
    "def change_file_name(dir_path):\n",
    "    files = os.listdir(dir_path)  # 读取文件名\n",
    "    for f in files:\n",
    "        #设置旧文件名（路径+文件名）\n",
    "        oldname=os.path.join(dir_path,f)\n",
    "        #设置新文件名\n",
    "        newname=os.path.join(dir_path,'rename_'+f)\n",
    "        #用os模块中的rename方法对文件改名\n",
    "        os.rename(oldname,newname)\n",
    "        print(oldname,'======>',newname)\n",
    "\n",
    "if __name__=='__main__':\n",
    "    change_file_name('data/data105415')"
   ]
  },
  {
   "cell_type": "code",
   "execution_count": null,
   "metadata": {
    "collapsed": false
   },
   "outputs": [],
   "source": []
  },
  {
   "cell_type": "markdown",
   "metadata": {
    "collapsed": false
   },
   "source": [
    "请点击[此处](https://ai.baidu.com/docs#/AIStudio_Project_Notebook/a38e5576)查看本环境基本用法.  <br>\n",
    "Please click [here ](https://ai.baidu.com/docs#/AIStudio_Project_Notebook/a38e5576) for more detailed instructions. "
   ]
  }
 ],
 "metadata": {
  "kernelspec": {
   "display_name": "PaddlePaddle 2.0.0b0 (Python 3.5)",
   "language": "python",
   "name": "py35-paddle1.2.0"
  },
  "language_info": {
   "codemirror_mode": {
    "name": "ipython",
    "version": 3
   },
   "file_extension": ".py",
   "mimetype": "text/x-python",
   "name": "python",
   "nbconvert_exporter": "python",
   "pygments_lexer": "ipython3",
   "version": "3.7.4"
  }
 },
 "nbformat": 4,
 "nbformat_minor": 1
}
