{
 "cells": [
  {
   "cell_type": "code",
   "execution_count": 1,
   "metadata": {
    "collapsed": false
   },
   "outputs": [
    {
     "name": "stdout",
     "output_type": "stream",
     "text": [
      "整数列表排序前： [31, 34, 61, 28, 25]\n",
      "整数列表排序前： [25, 28, 31, 34, 61]\n",
      "浮点列表排序前： [33.42043012776012, 37.72232047103353, 20.616407437451006, 23.9531333568375, 59.75143508087903]\n",
      "浮点列表排序前： [20.616407437451006, 23.9531333568375, 33.42043012776012, 37.72232047103353, 59.75143508087903]\n"
     ]
    }
   ],
   "source": [
    "# python3\n",
    "import random\n",
    "\n",
    "# 函数功能：生成ranges范围内的nums个整数\n",
    "def random_int(ranges=[0,100],num=1):  \n",
    "    if ranges[0]>ranges[1]:   # 检查生成随机数的范围是否有错\n",
    "        print('取值范围错误')\n",
    "        return []\n",
    "    res = []\n",
    "    for i in range(num):\n",
    "        res.append(random.randint(ranges[0],ranges[1]+1))\n",
    "    return res\n",
    "\n",
    "# 函数功能：生成ranges范围内的nums个小数\n",
    "def random_float(ranges=[0,100],num=1):\n",
    "    if ranges[0]>ranges[1]:   # 检查生成随机数的范围是否有错\n",
    "        print('取值范围错误')\n",
    "        return []  \n",
    "    res = []\n",
    "    for i in range(num):\n",
    "        res.append(random.random()*(ranges[1]-ranges[0])+ranges[0]) # 小数无法通过范围直接获取，需要先获取0-1之间的小数，再乘以其差值\n",
    "    return res\n",
    "\n",
    "# 函数功能：快速排序\n",
    "def quick_sort(arr): \n",
    "    if len(arr) < 2:\n",
    "        return arr\n",
    "    # 选取基准，随便选哪个都可以，选中间的便于理解\n",
    "    mid_index = len(arr) // 2\n",
    "    # 定义基准值左中右三个数列\n",
    "    left, mid, right = [], [], []\n",
    "    \n",
    "    for item in arr: \n",
    "        if item > arr[mid_index]:  # 大于arr[mid_index]的放在右边集合\n",
    "            right.append(item)     \n",
    "        elif item==arr[mid_index]: # 等于arr[mid_index]的放在中间集合\n",
    "            mid.append(item)\n",
    "        else:                      # 小于arr[mid_index]的放在左边集合\n",
    "            left.append(item)\n",
    "    # 使用迭代进行比较\n",
    "    return quick_sort(left) + mid + quick_sort(right)\n",
    "\n",
    "\n",
    "if __name__ == '__main__':\n",
    "    int_list = random_int([20,60],5)\n",
    "    float_list = random_float([20.1,60],5)\n",
    "    int_list_sort = quick_sort(int_list)\n",
    "    float_list_sort = quick_sort(float_list)\n",
    "    # 上面排序后是升序，如果想降序排列，只需加下列命令\n",
    "    # int_list_sort = int_list_sort[::-1]\n",
    "    print('整数列表排序前：',int_list)\n",
    "    print('整数列表排序前：',int_list_sort)\n",
    "    print('浮点列表排序前：',float_list)\n",
    "    print('浮点列表排序前：',float_list_sort)\n",
    "    \n"
   ]
  },
  {
   "cell_type": "markdown",
   "metadata": {
    "collapsed": false
   },
   "source": [
    "请点击[此处](https://ai.baidu.com/docs#/AIStudio_Project_Notebook/a38e5576)查看本环境基本用法.  <br>\n",
    "Please click [here ](https://ai.baidu.com/docs#/AIStudio_Project_Notebook/a38e5576) for more detailed instructions. "
   ]
  }
 ],
 "metadata": {
  "kernelspec": {
   "display_name": "PaddlePaddle 2.0.0b0 (Python 3.5)",
   "language": "python",
   "name": "py35-paddle1.2.0"
  },
  "language_info": {
   "codemirror_mode": {
    "name": "ipython",
    "version": 3
   },
   "file_extension": ".py",
   "mimetype": "text/x-python",
   "name": "python",
   "nbconvert_exporter": "python",
   "pygments_lexer": "ipython3",
   "version": "3.7.4"
  }
 },
 "nbformat": 4,
 "nbformat_minor": 1
}
