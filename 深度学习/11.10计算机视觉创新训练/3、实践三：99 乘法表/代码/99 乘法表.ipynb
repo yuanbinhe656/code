{
 "cells": [
  {
   "cell_type": "code",
   "execution_count": 1,
   "metadata": {
    "collapsed": false
   },
   "outputs": [
    {
     "name": "stdout",
     "output_type": "stream",
     "text": [
      "1*1=1 \n",
      "2*1=2 2*2=4 \n",
      "3*1=3 3*2=6 3*3=9 \n",
      "4*1=4 4*2=8 4*3=12 4*4=16 \n",
      "5*1=5 5*2=10 5*3=15 5*4=20 5*5=25 \n",
      "6*1=6 6*2=12 6*3=18 6*4=24 6*5=30 6*6=36 \n",
      "7*1=7 7*2=14 7*3=21 7*4=28 7*5=35 7*6=42 7*7=49 \n",
      "8*1=8 8*2=16 8*3=24 8*4=32 8*5=40 8*6=48 8*7=56 8*8=64 \n",
      "9*1=9 9*2=18 9*3=27 9*4=36 9*5=45 9*6=54 9*7=63 9*8=72 9*9=81 \n",
      "\n"
     ]
    }
   ],
   "source": [
    "# Python3\n",
    "\n",
    "# 函数功能：打印99乘法表\n",
    "def multiplication_table():\n",
    "    s = ''\n",
    "    for i in range(1,10):         # 1-9范围的整数\n",
    "        for j in range(1,i+1):    # 1-i范围内的整数\n",
    "            s += '{}*{}={}'.format(i,j,i*j)+\" \"   # 计算一次乘积，并且添加到整体的乘法表字符串中\n",
    "        s += '\\n'                 # 计算完i的乘法项，输出要换行\n",
    "    return s                      # 以字符串的方式返回乘法表\n",
    "\n",
    "if __name__=='__main__':          # python主函数解释执行的入口（可省略，直接写执行命令）\n",
    "    s = multiplication_table()    # 调用产生乘法表的函数\n",
    "    print(s)                      # 打印函数返回值，即乘法表"
   ]
  },
  {
   "cell_type": "markdown",
   "metadata": {
    "collapsed": false
   },
   "source": [
    "请点击[此处](https://ai.baidu.com/docs#/AIStudio_Project_Notebook/a38e5576)查看本环境基本用法.  <br>\n",
    "Please click [here ](https://ai.baidu.com/docs#/AIStudio_Project_Notebook/a38e5576) for more detailed instructions. "
   ]
  }
 ],
 "metadata": {
  "kernelspec": {
   "display_name": "PaddlePaddle 2.0.0b0 (Python 3.5)",
   "language": "python",
   "name": "py35-paddle1.2.0"
  },
  "language_info": {
   "codemirror_mode": {
    "name": "ipython",
    "version": 3
   },
   "file_extension": ".py",
   "mimetype": "text/x-python",
   "name": "python",
   "nbconvert_exporter": "python",
   "pygments_lexer": "ipython3",
   "version": "3.7.4"
  }
 },
 "nbformat": 4,
 "nbformat_minor": 1
}
